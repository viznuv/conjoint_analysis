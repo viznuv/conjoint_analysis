{
  "nbformat": 4,
  "nbformat_minor": 0,
  "metadata": {
    "colab": {
      "provenance": [],
      "authorship_tag": "ABX9TyMpPSsEsImRy79N8uobJOhu",
      "include_colab_link": true
    },
    "kernelspec": {
      "name": "python3",
      "display_name": "Python 3"
    },
    "language_info": {
      "name": "python"
    }
  },
  "cells": [
    {
      "cell_type": "markdown",
      "metadata": {
        "id": "view-in-github",
        "colab_type": "text"
      },
      "source": [
        "<a href=\"https://colab.research.google.com/github/viznuv/conjoint_analysis/blob/main/conjoint_analysis.ipynb\" target=\"_parent\"><img src=\"https://colab.research.google.com/assets/colab-badge.svg\" alt=\"Open In Colab\"/></a>"
      ]
    },
    {
      "cell_type": "code",
      "execution_count": 1,
      "metadata": {
        "colab": {
          "base_uri": "https://localhost:8080/"
        },
        "id": "7RrQYmd5KsJb",
        "outputId": "1defb3cc-0259-4a55-9aa5-f136c3d89699"
      },
      "outputs": [
        {
          "output_type": "stream",
          "name": "stdout",
          "text": [
            "   bundleID                starter    maindishI maindishII  \\\n",
            "0         1  Fried Chicken Tenders  BBQ Brisket    Sausage   \n",
            "1         2  Fried Chicken Tenders  BBQ Brisket    Sausage   \n",
            "2         3  Fried Chicken Tenders  BBQ Brisket    Sausage   \n",
            "3         4  Fried Chicken Tenders  BBQ Brisket    Sausage   \n",
            "4         5  Fried Chicken Tenders  BBQ Brisket    Sausage   \n",
            "\n",
            "                 side              dessert  avg_rating  \n",
            "0      Mac and Cheese      Blondie Brownie        6.04  \n",
            "1      Mac and Cheese  Apple Pie a la Mode        9.29  \n",
            "2        Potato Salad      Blondie Brownie        6.20  \n",
            "3        Potato Salad  Apple Pie a la Mode        8.84  \n",
            "4  French Fry Platter      Blondie Brownie        8.24  \n",
            "                            OLS Regression Results                            \n",
            "==============================================================================\n",
            "Dep. Variable:             avg_rating   R-squared:                       0.269\n",
            "Model:                            OLS   Adj. R-squared:                  0.246\n",
            "Method:                 Least Squares   F-statistic:                     11.41\n",
            "Date:                Mon, 17 Feb 2025   Prob (F-statistic):           1.53e-19\n",
            "Time:                        18:28:34   Log-Likelihood:                -696.91\n",
            "No. Observations:                 384   AIC:                             1420.\n",
            "Df Residuals:                     371   BIC:                             1471.\n",
            "Df Model:                          12                                         \n",
            "Covariance Type:            nonrobust                                         \n",
            "====================================================================================================================\n",
            "                                                       coef    std err          t      P>|t|      [0.025      0.975]\n",
            "--------------------------------------------------------------------------------------------------------------------\n",
            "Intercept                                            7.1404      0.278     25.674      0.000       6.593       7.687\n",
            "C(starter)[T.Fried Chicken Tenders]                  0.1336      0.218      0.612      0.541      -0.295       0.563\n",
            "C(starter)[T.Jumbo Shrimp Cocktail]                 -0.6306      0.218     -2.890      0.004      -1.060      -0.202\n",
            "C(starter)[T.Sticky Chicken Tenders]                 0.3393      0.218      1.555      0.121      -0.090       0.768\n",
            "C(maindishI)[T.BBQ Chicken]                         -0.2092      0.218     -0.959      0.338      -0.638       0.220\n",
            "C(maindishI)[T.Buffalo Chicken Macaroni Stacker]     0.5368      0.218      2.460      0.014       0.108       0.966\n",
            "C(maindishI)[T.Pulled Pork]                          0.5293      0.218      2.426      0.016       0.100       0.958\n",
            "C(maindishII)[T.Lobster Roll]                        1.0481      0.218      4.804      0.000       0.619       1.477\n",
            "C(maindishII)[T.Sausage]                             0.3320      0.218      1.522      0.129      -0.097       0.761\n",
            "C(maindishII)[T.Steak Sampler]                      -0.5005      0.218     -2.294      0.022      -0.929      -0.071\n",
            "C(side)[T.Mac and Cheese]                            0.5751      0.189      3.044      0.003       0.204       0.947\n",
            "C(side)[T.Potato Salad]                             -0.0222      0.189     -0.117      0.907      -0.394       0.349\n",
            "C(dessert)[T.Blondie Brownie]                       -0.8562      0.154     -5.550      0.000      -1.160      -0.553\n",
            "==============================================================================\n",
            "Omnibus:                       11.538   Durbin-Watson:                   2.180\n",
            "Prob(Omnibus):                  0.003   Jarque-Bera (JB):               11.397\n",
            "Skew:                          -0.385   Prob(JB):                      0.00335\n",
            "Kurtosis:                       2.655   Cond. No.                         7.54\n",
            "==============================================================================\n",
            "\n",
            "Notes:\n",
            "[1] Standard Errors assume that the covariance matrix of the errors is correctly specified.\n",
            "\n",
            "Best Combination:\n",
            "starter                       Sticky Chicken Tenders\n",
            "maindishI           Buffalo Chicken Macaroni Stacker\n",
            "maindishII                              Lobster Roll\n",
            "side                                  Mac and Cheese\n",
            "dessert                          Apple Pie a la Mode\n",
            "predicted_rating                            9.639704\n",
            "Name: 344, dtype: object\n",
            "\n",
            "Worst Combination:\n",
            "starter             Jumbo Shrimp Cocktail\n",
            "maindishI                     BBQ Chicken\n",
            "maindishII                  Steak Sampler\n",
            "side                         Potato Salad\n",
            "dessert                   Blondie Brownie\n",
            "predicted_rating                 4.921731\n",
            "Name: 239, dtype: object\n"
          ]
        }
      ],
      "source": [
        "import pandas as pd\n",
        "import statsmodels.formula.api as smf\n",
        "import itertools\n",
        "\n",
        "# Step 1: Read the CSV file (ensure the file name/path is correct)\n",
        "df = pd.read_csv('/content/bbq_summer.csv')\n",
        "\n",
        "# Optional: Display the first few rows to verify data\n",
        "print(df.head())\n",
        "\n",
        "# Step 2: Convert meal component columns to categorical (if they aren't already)\n",
        "categorical_cols = ['starter', 'maindishI', 'maindishII', 'side', 'dessert']\n",
        "for col in categorical_cols:\n",
        "    df[col] = df[col].astype('category')\n",
        "\n",
        "# Step 3: Fit an OLS regression model using these categorical variables.\n",
        "# The formula uses \"C(variable)\" to tell statsmodels to treat the variable as categorical.\n",
        "formula = 'avg_rating ~ C(starter) + C(maindishI) + C(maindishII) + C(side) + C(dessert)'\n",
        "model = smf.ols(formula, data=df).fit()\n",
        "\n",
        "# Print the model summary to review the coefficients (part-worth utilities)\n",
        "print(model.summary())\n",
        "\n",
        "# Step 4: Generate all possible combinations of meal components from the levels in your data\n",
        "starters   = df['starter'].cat.categories\n",
        "maindishI  = df['maindishI'].cat.categories\n",
        "maindishII = df['maindishII'].cat.categories\n",
        "side       = df['side'].cat.categories\n",
        "dessert    = df['dessert'].cat.categories\n",
        "\n",
        "all_combinations = list(itertools.product(starters, maindishI, maindishII, side, dessert))\n",
        "df_combinations = pd.DataFrame(all_combinations,\n",
        "                               columns=['starter', 'maindishI', 'maindishII', 'side', 'dessert'])\n",
        "\n",
        "# Step 5: Use the fitted model to predict the avg_rating for each combination\n",
        "df_combinations['predicted_rating'] = model.predict(df_combinations)\n",
        "\n",
        "# Step 6: Identify the best (highest predicted rating) and worst (lowest predicted rating) combinations\n",
        "best_combo  = df_combinations.loc[df_combinations['predicted_rating'].idxmax()]\n",
        "worst_combo = df_combinations.loc[df_combinations['predicted_rating'].idxmin()]\n",
        "\n",
        "print(\"\\nBest Combination:\")\n",
        "print(best_combo)\n",
        "\n",
        "print(\"\\nWorst Combination:\")\n",
        "print(worst_combo)\n"
      ]
    }
  ]
}